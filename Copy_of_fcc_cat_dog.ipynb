{
  "nbformat": 4,
  "nbformat_minor": 0,
  "metadata": {
    "colab": {
      "name": "Copy of fcc_cat_dog.ipynb",
      "provenance": [],
      "collapsed_sections": [],
      "include_colab_link": true
    },
    "kernelspec": {
      "name": "python3",
      "display_name": "Python 3"
    },
    "accelerator": "GPU"
  },
  "cells": [
    {
      "cell_type": "markdown",
      "metadata": {
        "id": "view-in-github",
        "colab_type": "text"
      },
      "source": [
        "<a href=\"https://colab.research.google.com/github/jiunndar/tensorflow-tutorial/blob/main/Copy_of_fcc_cat_dog.ipynb\" target=\"_parent\"><img src=\"https://colab.research.google.com/assets/colab-badge.svg\" alt=\"Open In Colab\"/></a>"
      ]
    },
    {
      "cell_type": "markdown",
      "metadata": {
        "id": "XeCllzC77-P5"
      },
      "source": [
        "*Note: You are currently reading this using Google Colaboratory which is a cloud-hosted version of Jupyter Notebook. This is a document containng both text cells for documentation and runnable code cells. If you are unfamiliar with Jupyter Notebook, watch this 3-minute introduction before starting this challenge: https://www.youtube.com/watch?v=inN8seMm7UI*\n",
        "\n",
        "\n",
        "\n",
        "---\n",
        "\n",
        "\n",
        "\n",
        "For this challenge, you will complete the code below to classify images of dogs and cats. You will use Tensorflow 2.0 and Keras to create a convolutional neural network that correctly classifies images of cats and dogs at least 63% of the time. (Extra credit if you get it to 70% accuracy!)\n",
        "\n",
        "Some of the code is given to you but some code you must fill in to complete this challenge. Read the instruction in each text cell so you will know what you have to do in each code cell.\n",
        "\n",
        "The first code cell imports the required libraries. The second code cell downloads the data and sets key variables. The third cell is the first place you will write your own code.\n",
        "\n",
        "The structure of the dataset files that are downloaded looks like this (You will notice that the test directory has no subdirectories and the images are not labeled):\n",
        "```\n",
        "cats_and_dogs\n",
        "|__ train:\n",
        "    |______ cats: [cat.0.jpg, cat.1.jpg ...]\n",
        "    |______ dogs: [dog.0.jpg, dog.1.jpg ...]\n",
        "|__ validation:\n",
        "    |______ cats: [cat.2000.jpg, cat.2001.jpg ...]\n",
        "    |______ dogs: [dog.2000.jpg, dog.2001.jpg ...]\n",
        "|__ test: [1.jpg, 2.jpg ...]\n",
        "```\n",
        "\n",
        "You can tweak epochs and batch size if you like, but it is not required."
      ]
    },
    {
      "cell_type": "code",
      "metadata": {
        "id": "la_Oz6oLlub6"
      },
      "source": [
        "try:\n",
        "  # This command only in Colab.\n",
        "  %tensorflow_version 2.x\n",
        "except Exception:\n",
        "  pass\n",
        "import tensorflow as tf\n",
        "\n",
        "from tensorflow.keras.models import Sequential\n",
        "from tensorflow.keras.layers import Dense, Conv2D, Flatten, Dropout, MaxPooling2D\n",
        "from tensorflow.keras.preprocessing.image import ImageDataGenerator\n",
        "\n",
        "from tensorflow.keras.layers import Input, Dense\n",
        "\n",
        "import os\n",
        "import numpy as np\n",
        "import matplotlib.pyplot as plt\n",
        "from math import ceil"
      ],
      "execution_count": 12,
      "outputs": []
    },
    {
      "cell_type": "code",
      "metadata": {
        "id": "jaF8r6aOl48C"
      },
      "source": [
        "# Get project files\n",
        "!wget https://cdn.freecodecamp.org/project-data/cats-and-dogs/cats_and_dogs.zip\n",
        "\n",
        "!unzip cats_and_dogs.zip\n",
        "\n",
        "PATH = 'cats_and_dogs'\n",
        "\n",
        "train_dir = os.path.join(PATH, 'train')\n",
        "validation_dir = os.path.join(PATH, 'validation')\n",
        "test_dir = os.path.join(PATH, 'test')\n",
        "\n",
        "# Get number of files in each directory. The train and validation directories\n",
        "# each have the subdirecories \"dogs\" and \"cats\".\n",
        "total_train = sum([len(files) for r, d, files in os.walk(train_dir)])\n",
        "total_val = sum([len(files) for r, d, files in os.walk(validation_dir)])\n",
        "total_test = len(os.listdir(test_dir))\n",
        "\n",
        "# Variables for pre-processing and training.\n",
        "batch_size = 128\n",
        "epochs = 15\n",
        "IMG_HEIGHT = 150\n",
        "IMG_WIDTH = 150"
      ],
      "execution_count": null,
      "outputs": []
    },
    {
      "cell_type": "markdown",
      "metadata": {
        "id": "54bSbGlK9-6T"
      },
      "source": [
        "Now it is your turn! Set each of the variables below correctly. (They should no longer equal `None`.)\n",
        "\n",
        "Create image generators for each of the three image data sets (train, validation, test). Use `ImageDataGenerator` to read / decode the images and convert them into floating point tensors. Use the `rescale` argument (and no other arguments for now) to rescale the tensors from values between 0 and 255 to values between 0 and 1.\n",
        "\n",
        "For the `*_data_gen` variables, use the `flow_from_directory` method. Pass in the batch size, directory, target size (`(IMG_HEIGHT, IMG_WIDTH)`), class mode, and anything else required. `test_data_gen` will be the trickiest one. For `test_data_gen`, make sure to pass in `shuffle=False` to the `flow_from_directory` method. This will make sure the final predictions stay is in the order that our test expects. For `test_data_gen` it will also be helpful to observe the directory structure.\n",
        "\n",
        "\n",
        "After you run the code, the output should look like this:\n",
        "```\n",
        "Found 2000 images belonging to 2 classes.\n",
        "Found 1000 images belonging to 2 classes.\n",
        "Found 50 images belonging to 1 classes.\n",
        "```"
      ]
    },
    {
      "cell_type": "code",
      "metadata": {
        "id": "EOJFeEfumns6",
        "colab": {
          "base_uri": "https://localhost:8080/"
        },
        "outputId": "015d23e7-cbbf-4432-9cf3-7917405bc0fe"
      },
      "source": [
        "#train_image_generator = None\n",
        "#validation_image_generator = None\n",
        "#test_image_generator = None\n",
        "\n",
        "#train_data_gen = None\n",
        "#val_data_gen = None\n",
        "#test_data_gen = None\n",
        "\n",
        "\n",
        "#test\n",
        "train_image_generator      = ImageDataGenerator(rescale=1./255)\n",
        "validation_image_generator = ImageDataGenerator(rescale=1./255)\n",
        "test_image_generator       = ImageDataGenerator(rescale=1./255)\n",
        "\n",
        "train_data_gen = train_image_generator.flow_from_directory(\n",
        "                    train_dir,\n",
        "                    target_size=(IMG_HEIGHT, IMG_WIDTH),\n",
        "                    batch_size=batch_size,\n",
        "                    class_mode='binary')\n",
        "\n",
        "val_data_gen   = validation_image_generator.flow_from_directory(\n",
        "                    validation_dir,\n",
        "                    target_size=(IMG_HEIGHT, IMG_WIDTH),\n",
        "                    batch_size=batch_size,\n",
        "                    class_mode='binary')\n",
        "\n",
        "test_data_gen  = test_image_generator.flow_from_directory(\n",
        "                    PATH,\n",
        "                    target_size=(IMG_HEIGHT, IMG_WIDTH),\n",
        "                    batch_size=batch_size,\n",
        "                    classes=['test'],\n",
        "                    shuffle=False)"
      ],
      "execution_count": 4,
      "outputs": [
        {
          "output_type": "stream",
          "text": [
            "Found 2000 images belonging to 2 classes.\n",
            "Found 1000 images belonging to 2 classes.\n",
            "Found 50 images belonging to 1 classes.\n"
          ],
          "name": "stdout"
        }
      ]
    },
    {
      "cell_type": "markdown",
      "metadata": {
        "id": "77TvZVETP_b2"
      },
      "source": [
        "The `plotImages` function will be used a few times to plot images. It takes an array of images and a probabilities list, although the probabilities list is optional. This code is given to you. If you created the `train_data_gen` variable correctly, then running the cell below will plot five random training images."
      ]
    },
    {
      "cell_type": "code",
      "metadata": {
        "id": "TP0WA8j1mt7Q"
      },
      "source": [
        "def plotImages(images_arr, probabilities = False):\n",
        "    fig, axes = plt.subplots(len(images_arr), 1, figsize=(5,len(images_arr) * 3))\n",
        "    if probabilities is False:\n",
        "      for img, ax in zip( images_arr, axes):\n",
        "          ax.imshow(img)\n",
        "          ax.axis('off')\n",
        "    else:\n",
        "      for img, probability, ax in zip( images_arr, probabilities, axes):\n",
        "          ax.imshow(img)\n",
        "          ax.axis('off')\n",
        "          if probability > 0.5:\n",
        "              ax.set_title(\"%.2f\" % (probability*100) + \"% dog\")\n",
        "          else:\n",
        "              ax.set_title(\"%.2f\" % ((1-probability)*100) + \"% cat\")\n",
        "    plt.show()\n",
        "\n",
        "sample_training_images, _ = next(train_data_gen)\n",
        "plotImages(sample_training_images[:5])\n"
      ],
      "execution_count": null,
      "outputs": []
    },
    {
      "cell_type": "markdown",
      "metadata": {
        "id": "GlLF4j7hkxEp"
      },
      "source": [
        "Recreate the `train_image_generator` using `ImageDataGenerator`. \n",
        "\n",
        "Since there are a small number of training examples there is a risk of overfitting. One way to fix this problem is by creating more training data from existing training examples by using random transformations.\n",
        "\n",
        "Add 4-6 random transformations as arguments to `ImageDataGenerator`. Make sure to rescale the same as before.\n"
      ]
    },
    {
      "cell_type": "code",
      "metadata": {
        "id": "-32RRLY_3voj"
      },
      "source": [
        "#train_image_generator = None\n",
        "\n",
        "train_image_generator = ImageDataGenerator(\n",
        "                            rescale=1./255,\n",
        "                            horizontal_flip=True,\n",
        "                            rotation_range=20,\n",
        "                            zoom_range=0.15,\n",
        "                            width_shift_range=0.2,\n",
        "                            height_shift_range=0.2,\n",
        "                            shear_range=0.15,\n",
        "                            fill_mode=\"nearest\")"
      ],
      "execution_count": 6,
      "outputs": []
    },
    {
      "cell_type": "markdown",
      "metadata": {
        "id": "JLzS54VmqkRg"
      },
      "source": [
        "You don't have to do anything for the next cell. `train_data_gen` is created just like before but with the new `train_image_generator`. Then, a single image is plotted five different times using different variations."
      ]
    },
    {
      "cell_type": "code",
      "metadata": {
        "id": "pkwq2LFvqabS"
      },
      "source": [
        "train_data_gen = train_image_generator.flow_from_directory(batch_size=batch_size,\n",
        "                                                     directory=train_dir,\n",
        "                                                     target_size=(IMG_HEIGHT, IMG_WIDTH),\n",
        "                                                     class_mode='binary')\n",
        "\n",
        "augmented_images = [train_data_gen[0][0][0] for i in range(5)]\n",
        "\n",
        "plotImages(augmented_images)"
      ],
      "execution_count": null,
      "outputs": []
    },
    {
      "cell_type": "markdown",
      "metadata": {
        "id": "wUPWeKtESzA9"
      },
      "source": [
        "In the cell below, create a model for the neural network that outputs class probabilities. It should use the Keras Sequential model. It will probably involve a stack of Conv2D and MaxPooling2D layers and then a fully connected layer on top that is activated by a ReLU activation function.\n",
        "\n",
        "Compile the model passing the arguments to set the optimizer and loss. Also pass in `metrics=['accuracy']` to view training and validation accuracy for each training epoch."
      ]
    },
    {
      "cell_type": "code",
      "metadata": {
        "id": "k8aZkwMam4UY",
        "colab": {
          "base_uri": "https://localhost:8080/"
        },
        "outputId": "104a5751-9c5d-4dcd-d4e5-89b432d5679e"
      },
      "source": [
        "\n",
        "model = Sequential()\n",
        "\n",
        "# Convolutions\n",
        "model.add(Input(shape=(IMG_HEIGHT, IMG_WIDTH, 3)))\n",
        "model.add(Conv2D(32, (3,3)))\n",
        "model.add(MaxPooling2D(pool_size=(2, 2)))\n",
        "model.add(Conv2D(64, (3,3)))\n",
        "model.add(MaxPooling2D(pool_size=(2, 2)))\n",
        "model.add(Conv2D(128, (3,3)))\n",
        "model.add(MaxPooling2D(pool_size=(2, 2)))\n",
        "\n",
        "# Dense layers\n",
        "model.add(Flatten())\n",
        "model.add(Dense(512, activation='relu'))\n",
        "model.add(Dense(1, activation='sigmoid'))\n",
        "\n",
        "# Optimizer\n",
        "model.compile(optimizer='adam',\n",
        "              loss='binary_crossentropy',\n",
        "              metrics=['accuracy'])\n",
        "\n",
        "model.summary()"
      ],
      "execution_count": 10,
      "outputs": [
        {
          "output_type": "stream",
          "text": [
            "Model: \"sequential_1\"\n",
            "_________________________________________________________________\n",
            "Layer (type)                 Output Shape              Param #   \n",
            "=================================================================\n",
            "conv2d (Conv2D)              (None, 148, 148, 32)      896       \n",
            "_________________________________________________________________\n",
            "max_pooling2d (MaxPooling2D) (None, 74, 74, 32)        0         \n",
            "_________________________________________________________________\n",
            "conv2d_1 (Conv2D)            (None, 72, 72, 64)        18496     \n",
            "_________________________________________________________________\n",
            "max_pooling2d_1 (MaxPooling2 (None, 36, 36, 64)        0         \n",
            "_________________________________________________________________\n",
            "conv2d_2 (Conv2D)            (None, 34, 34, 128)       73856     \n",
            "_________________________________________________________________\n",
            "max_pooling2d_2 (MaxPooling2 (None, 17, 17, 128)       0         \n",
            "_________________________________________________________________\n",
            "flatten (Flatten)            (None, 36992)             0         \n",
            "_________________________________________________________________\n",
            "dense (Dense)                (None, 512)               18940416  \n",
            "_________________________________________________________________\n",
            "dense_1 (Dense)              (None, 1)                 513       \n",
            "=================================================================\n",
            "Total params: 19,034,177\n",
            "Trainable params: 19,034,177\n",
            "Non-trainable params: 0\n",
            "_________________________________________________________________\n"
          ],
          "name": "stdout"
        }
      ]
    },
    {
      "cell_type": "code",
      "metadata": {
        "colab": {
          "base_uri": "https://localhost:8080/"
        },
        "id": "Vn7BJLTa7HFi",
        "outputId": "89965a46-db43-4329-a6fb-56bf269f6784"
      },
      "source": [
        "train_steps = int(ceil(1. * total_train / batch_size))\n",
        "val_steps   = int(ceil(1. * total_val / batch_size))\n",
        "\n",
        "print(train_steps, val_steps)"
      ],
      "execution_count": 13,
      "outputs": [
        {
          "output_type": "stream",
          "text": [
            "16 8\n"
          ],
          "name": "stdout"
        }
      ]
    },
    {
      "cell_type": "markdown",
      "metadata": {
        "id": "-rYmKuT1dRdy"
      },
      "source": [
        "Use the `fit` method on your `model` to train the network. Make sure to pass in arguments for `x`, `steps_per_epoch`, `epochs`, `validation_data`, and `validation_steps`."
      ]
    },
    {
      "cell_type": "code",
      "metadata": {
        "id": "1niQDz5x6K7y",
        "colab": {
          "base_uri": "https://localhost:8080/"
        },
        "outputId": "4c49cbca-0581-4039-b9d9-e10e5bfc831a"
      },
      "source": [
        "#history = None\n",
        "\n",
        "history = model.fit(\n",
        "            train_data_gen, steps_per_epoch=train_steps,\n",
        "            validation_data=val_data_gen, validation_steps=val_steps,\n",
        "            epochs=epochs)"
      ],
      "execution_count": 18,
      "outputs": [
        {
          "output_type": "stream",
          "text": [
            "Epoch 1/15\n",
            "16/16 [==============================] - 78s 5s/step - loss: 0.6124 - accuracy: 0.6750 - val_loss: 0.5936 - val_accuracy: 0.6940\n",
            "Epoch 2/15\n",
            "16/16 [==============================] - 78s 5s/step - loss: 0.6128 - accuracy: 0.6545 - val_loss: 0.5932 - val_accuracy: 0.6730\n",
            "Epoch 3/15\n",
            "16/16 [==============================] - 77s 5s/step - loss: 0.6048 - accuracy: 0.6620 - val_loss: 0.5844 - val_accuracy: 0.6890\n",
            "Epoch 4/15\n",
            "16/16 [==============================] - 76s 5s/step - loss: 0.5919 - accuracy: 0.6800 - val_loss: 0.5982 - val_accuracy: 0.6730\n",
            "Epoch 5/15\n",
            "16/16 [==============================] - 77s 5s/step - loss: 0.6210 - accuracy: 0.6495 - val_loss: 0.5975 - val_accuracy: 0.6850\n",
            "Epoch 6/15\n",
            "16/16 [==============================] - 77s 5s/step - loss: 0.6033 - accuracy: 0.6765 - val_loss: 0.5745 - val_accuracy: 0.7150\n",
            "Epoch 7/15\n",
            "16/16 [==============================] - 77s 5s/step - loss: 0.6229 - accuracy: 0.6440 - val_loss: 0.6271 - val_accuracy: 0.6340\n",
            "Epoch 8/15\n",
            "16/16 [==============================] - 78s 5s/step - loss: 0.6047 - accuracy: 0.6720 - val_loss: 0.5918 - val_accuracy: 0.6990\n",
            "Epoch 9/15\n",
            "16/16 [==============================] - 83s 5s/step - loss: 0.6146 - accuracy: 0.6535 - val_loss: 0.5716 - val_accuracy: 0.7060\n",
            "Epoch 10/15\n",
            "16/16 [==============================] - 77s 5s/step - loss: 0.5962 - accuracy: 0.6790 - val_loss: 0.6158 - val_accuracy: 0.6440\n",
            "Epoch 11/15\n",
            "16/16 [==============================] - 77s 5s/step - loss: 0.5976 - accuracy: 0.6675 - val_loss: 0.5715 - val_accuracy: 0.7100\n",
            "Epoch 12/15\n",
            "16/16 [==============================] - 79s 5s/step - loss: 0.5838 - accuracy: 0.6790 - val_loss: 0.6099 - val_accuracy: 0.6700\n",
            "Epoch 13/15\n",
            "16/16 [==============================] - 79s 5s/step - loss: 0.5812 - accuracy: 0.6965 - val_loss: 0.6140 - val_accuracy: 0.6730\n",
            "Epoch 14/15\n",
            "16/16 [==============================] - 77s 5s/step - loss: 0.5852 - accuracy: 0.6775 - val_loss: 0.5835 - val_accuracy: 0.6730\n",
            "Epoch 15/15\n",
            "16/16 [==============================] - 79s 5s/step - loss: 0.5881 - accuracy: 0.6675 - val_loss: 0.5697 - val_accuracy: 0.7100\n"
          ],
          "name": "stdout"
        }
      ]
    },
    {
      "cell_type": "markdown",
      "metadata": {
        "id": "Imux8tZWsWp-"
      },
      "source": [
        "Run the next cell to visualize the accuracy and loss of the model."
      ]
    },
    {
      "cell_type": "code",
      "metadata": {
        "id": "5xS51mB56OAC",
        "colab": {
          "base_uri": "https://localhost:8080/",
          "height": 499
        },
        "outputId": "d3b832b4-f265-4293-bb1e-ffece80ec80d"
      },
      "source": [
        "acc = history.history['accuracy']\n",
        "val_acc = history.history['val_accuracy']\n",
        "\n",
        "loss = history.history['loss']\n",
        "val_loss = history.history['val_loss']\n",
        "\n",
        "epochs_range = range(epochs)\n",
        "\n",
        "plt.figure(figsize=(8, 8))\n",
        "plt.subplot(1, 2, 1)\n",
        "plt.plot(epochs_range, acc, label='Training Accuracy')\n",
        "plt.plot(epochs_range, val_acc, label='Validation Accuracy')\n",
        "plt.legend(loc='lower right')\n",
        "plt.title('Training and Validation Accuracy')\n",
        "\n",
        "plt.subplot(1, 2, 2)\n",
        "plt.plot(epochs_range, loss, label='Training Loss')\n",
        "plt.plot(epochs_range, val_loss, label='Validation Loss')\n",
        "plt.legend(loc='upper right')\n",
        "plt.title('Training and Validation Loss')\n",
        "plt.show()"
      ],
      "execution_count": 19,
      "outputs": [
        {
          "output_type": "display_data",
          "data": {
            "image/png": "[encoded data removed]",
            "text/plain": [
              "<Figure size 576x576 with 2 Axes>"
            ]
          },
          "metadata": {
            "tags": [],
            "needs_background": "light"
          }
        }
      ]
    },
    {
      "cell_type": "markdown",
      "metadata": {
        "id": "2bWrqi-usz3y"
      },
      "source": [
        "Now it is time to use your model to predict whether a brand new image is a cat or a dog.\n",
        "\n",
        "In this final cell, get the probability that each test image (from `test_data_gen`) is a dog or a cat. `probabilities` should be a list of integers. \n",
        "\n",
        "Call the `plotImages` function and pass in the test images and the probabilities corresponding to each test image.\n",
        "\n",
        "After your run the cell, you should see all 50 test images with a label showing the percentage sure that the image is a cat or a dog. The accuracy will correspond to the accuracy shown in the graph above (after running the previous cell). More training images could lead to a higher accuracy."
      ]
    },
    {
      "cell_type": "code",
      "metadata": {
        "id": "vYrSifOit2aK",
        "colab": {
          "base_uri": "https://localhost:8080/"
        },
        "outputId": "1fceeb4b-3ffd-4fa3-9ee0-12ff7f3d34fc"
      },
      "source": [
        "probabilities = model.predict(test_data_gen).flatten()\n",
        "probabilities"
      ],
      "execution_count": 20,
      "outputs": [
        {
          "output_type": "execute_result",
          "data": {
            "text/plain": [
              "array([0.31750244, 0.19601151, 0.18041998, 0.82638276, 0.27218726,\n",
              "       0.45076314, 0.625869  , 0.24349684, 0.2345092 , 0.95110214,\n",
              "       0.3296917 , 0.6626357 , 0.26333934, 0.4279496 , 0.5879126 ,\n",
              "       0.38265875, 0.4722334 , 0.71936136, 0.55564356, 0.50966835,\n",
              "       0.20519143, 0.6983147 , 0.15954643, 0.78762454, 0.7149351 ,\n",
              "       0.32316566, 0.94523656, 0.24206915, 0.29140952, 0.43482056,\n",
              "       0.34447974, 0.24048766, 0.5745671 , 0.9986123 , 0.18237802,\n",
              "       0.24628264, 0.99687445, 0.691082  , 0.4923122 , 0.35383314,\n",
              "       0.33647203, 0.25444877, 0.84016085, 0.36963743, 0.35030496,\n",
              "       0.28167805, 0.36986914, 0.20609325, 0.29203784, 0.29350144],\n",
              "      dtype=float32)"
            ]
          },
          "metadata": {
            "tags": []
          },
          "execution_count": 20
        }
      ]
    },
    {
      "cell_type": "markdown",
      "metadata": {
        "id": "222ZZUup6SVO"
      },
      "source": [
        "Run this final cell to see if you passed the challenge or if you need to keep trying."
      ]
    },
    {
      "cell_type": "code",
      "metadata": {
        "id": "4IH86Ux_u7TZ",
        "colab": {
          "base_uri": "https://localhost:8080/"
        },
        "outputId": "08af8e20-f14a-49a1-b76d-8d3ed4d71812"
      },
      "source": [
        "answers =  [1, 0, 0, 1, 0, 0, 0, 0, 1, 1, 0,\n",
        "            1, 0, 1, 0, 1, 1, 0, 1, 1, 0, 0,\n",
        "            1, 1, 1, 1, 1, 0, 0, 0, 0, 0, 1,\n",
        "            1, 0, 1, 1, 1, 1, 0, 1, 0, 1, 1, \n",
        "            0, 0, 0, 0, 0, 0]\n",
        "\n",
        "correct = 0\n",
        "\n",
        "for probability, answer in zip(probabilities, answers):\n",
        "  if round(probability) == answer:\n",
        "    correct +=1\n",
        "\n",
        "percentage_identified = (correct / len(answers))\n",
        "\n",
        "passed_challenge = percentage_identified > 0.63\n",
        "\n",
        "print(f\"Your model correctly identified {round(percentage_identified, 2)}% of the images of cats and dogs.\")\n",
        "\n",
        "if passed_challenge:\n",
        "  print(\"You passed the challenge!\")\n",
        "else:\n",
        "  print(\"You haven't passed yet. Your model should identify at least 63% of the images. Keep trying. You will get it!\")"
      ],
      "execution_count": 21,
      "outputs": [
        {
          "output_type": "stream",
          "text": [
            "Your model correctly identified 0.7% of the images of cats and dogs.\n",
            "You passed the challenge!\n"
          ],
          "name": "stdout"
        }
      ]
    }
  ]
}